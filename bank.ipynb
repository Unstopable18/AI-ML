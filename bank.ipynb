{
 "cells": [
  {
   "cell_type": "code",
   "execution_count": null,
   "metadata": {},
   "outputs": [],
   "source": [
    "#for single user\n",
    "\n",
    "#operations\n",
    "#create a account\n",
    "#credit/deposit\n",
    "#withdraw\n",
    "#balance check\n",
    "\n",
    "#data\n",
    "#account no\n",
    "#user name\n",
    "#password\n"
   ]
  },
  {
   "cell_type": "code",
   "execution_count": 1,
   "metadata": {},
   "outputs": [
    {
     "name": "stderr",
     "output_type": "stream",
     "text": [
      "C:\\Users\\Admin\\AppData\\Local\\Temp\\ipykernel_13328\\1408086122.py:2: DeprecationWarning: The Tix Tk extension is unmaintained, and the tkinter.tix wrapper module is deprecated in favor of tkinter.ttk\n",
      "  from tkinter.tix import Balloon\n"
     ]
    },
    {
     "name": "stdout",
     "output_type": "stream",
     "text": [
      "1:Create Account\n",
      "2:Credit\n",
      "3:Debit\n",
      "4:Balance Check\n",
      "5:Exit\n",
      "--------------------------------------------------\n",
      "--------------------------------------------------\n",
      "Account created Successfully!!!\n",
      "Username:\t vai \n",
      "Password:\t des \n",
      "Account No.:\t 89451017 \n",
      "Balance:\t 0\n",
      "**************************************************\n"
     ]
    }
   ],
   "source": [
    "import random\n",
    "from tkinter.tix import Balloon\n",
    "bank=list()\n",
    "def create():\n",
    "    username=input('Enter Username for new account:\\t')\n",
    "    password=input('Enter Password for new account:\\t')\n",
    "    acno=random.randrange(10000000,99999999)\n",
    "    balance=0\n",
    "    bank.extend([username,password,acno,balance])\n",
    "    print('Account created Successfully!!!\\nUsername:\\t',bank[0],'\\nPassword:\\t',bank[1],'\\nAccount No.:\\t',bank[2],'\\nBalance:\\t',bank[3])\n",
    "def credit():\n",
    "    amt=float(input('Enter amount to be credited:\\t'))\n",
    "    bank[3]=bank[3]+amt\n",
    "    print(bank)\n",
    "def debit():\n",
    "    amt=float(input('Enter amount to be debited:\\t'))\n",
    "    if(bank[3]>=amt):\n",
    "        bank[3]=bank[3]-amt\n",
    "        print(bank)\n",
    "    else:\n",
    "        print('Insufficient Balance!!!')\n",
    "def balance():\n",
    "    return print('Balance:\\t',bank[3])\n",
    "\n",
    "print(\"1:Create Account\")\n",
    "print(\"2:Credit\")\n",
    "print(\"3:Debit\")\n",
    "print(\"4:Balance Check\")\n",
    "print(\"5:Exit\")\n",
    "print(\"\".center(50,'-'))\n",
    "type = int(input(\"Please select (1-5):\\t\"))\n",
    "print(\"\".center(50,'-'))\n",
    "while type>=1 and type<=5:\n",
    "    if type==1:\n",
    "        create()\n",
    "    elif type==2:\n",
    "        credit()\n",
    "    elif type==3:\n",
    "        debit()\n",
    "    elif type==4:\n",
    "        balance()\n",
    "    elif type==5:\n",
    "        print(\" Thank You for banking with us! \".center(50,'*'))\n",
    "        break\n",
    "    print(\"\".center(50,'*'))\n",
    "    type = int(input(\"Please select (1-5):\\t\"))\n",
    "else:\n",
    "  print(\" Invalid Input! \")\n",
    "\n"
   ]
  }
 ],
 "metadata": {
  "kernelspec": {
   "display_name": "Python 3.10.8 64-bit",
   "language": "python",
   "name": "python3"
  },
  "language_info": {
   "codemirror_mode": {
    "name": "ipython",
    "version": 3
   },
   "file_extension": ".py",
   "mimetype": "text/x-python",
   "name": "python",
   "nbconvert_exporter": "python",
   "pygments_lexer": "ipython3",
   "version": "3.10.8"
  },
  "orig_nbformat": 4,
  "vscode": {
   "interpreter": {
    "hash": "a42ccb73e7d9bfdf27e036f1d2b8b681e55fc0743cc5586bc2474d4a60f4b886"
   }
  }
 },
 "nbformat": 4,
 "nbformat_minor": 2
}
